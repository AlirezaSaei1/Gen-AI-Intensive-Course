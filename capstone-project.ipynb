{
 "cells": [
  {
   "cell_type": "markdown",
   "id": "016ab018",
   "metadata": {
    "papermill": {
     "duration": 0.003367,
     "end_time": "2025-04-11T11:07:39.343954",
     "exception": false,
     "start_time": "2025-04-11T11:07:39.340587",
     "status": "completed"
    },
    "tags": []
   },
   "source": [
    "## Autonomous Multi-Agent System for Enhanced Automotive User Experience\n",
    "\n",
    "#### Capstone Project - Kaggle 5-Day Generative AI Course"
   ]
  },
  {
   "cell_type": "code",
   "execution_count": 1,
   "id": "1516f45b",
   "metadata": {
    "execution": {
     "iopub.execute_input": "2025-04-11T11:07:39.352134Z",
     "iopub.status.busy": "2025-04-11T11:07:39.351785Z",
     "iopub.status.idle": "2025-04-11T11:08:37.096348Z",
     "shell.execute_reply": "2025-04-11T11:08:37.095150Z"
    },
    "papermill": {
     "duration": 57.751082,
     "end_time": "2025-04-11T11:08:37.098653",
     "exception": false,
     "start_time": "2025-04-11T11:07:39.347571",
     "status": "completed"
    },
    "tags": []
   },
   "outputs": [
    {
     "name": "stdout",
     "output_type": "stream",
     "text": [
      "\u001b[2K     \u001b[90m━━━━━━━━━━━━━━━━━━━━━━━━━━━━━━━━━━━━━━━━\u001b[0m \u001b[32m43.5/43.5 kB\u001b[0m \u001b[31m1.7 MB/s\u001b[0m eta \u001b[36m0:00:00\u001b[0m\r\n",
      "\u001b[2K   \u001b[90m━━━━━━━━━━━━━━━━━━━━━━━━━━━━━━━━━━━━━━━━\u001b[0m \u001b[32m1.0/1.0 MB\u001b[0m \u001b[31m16.8 MB/s\u001b[0m eta \u001b[36m0:00:00\u001b[0m\r\n",
      "\u001b[2K   \u001b[90m━━━━━━━━━━━━━━━━━━━━━━━━━━━━━━━━━━━━━━━━\u001b[0m \u001b[32m42.0/42.0 kB\u001b[0m \u001b[31m1.6 MB/s\u001b[0m eta \u001b[36m0:00:00\u001b[0m\r\n",
      "\u001b[2K   \u001b[90m━━━━━━━━━━━━━━━━━━━━━━━━━━━━━━━━━━━━━━━━\u001b[0m \u001b[32m144.1/144.1 kB\u001b[0m \u001b[31m7.1 MB/s\u001b[0m eta \u001b[36m0:00:00\u001b[0m\r\n",
      "\u001b[2K   \u001b[90m━━━━━━━━━━━━━━━━━━━━━━━━━━━━━━━━━━━━━━━━\u001b[0m \u001b[32m7.6/7.6 MB\u001b[0m \u001b[31m75.1 MB/s\u001b[0m eta \u001b[36m0:00:00\u001b[0m\r\n",
      "\u001b[2K   \u001b[90m━━━━━━━━━━━━━━━━━━━━━━━━━━━━━━━━━━━━━━━━\u001b[0m \u001b[32m13.5/13.5 MB\u001b[0m \u001b[31m72.7 MB/s\u001b[0m eta \u001b[36m0:00:00\u001b[0m\r\n",
      "\u001b[2K   \u001b[90m━━━━━━━━━━━━━━━━━━━━━━━━━━━━━━━━━━━━━━━━\u001b[0m \u001b[32m2.5/2.5 MB\u001b[0m \u001b[31m54.1 MB/s\u001b[0m eta \u001b[36m0:00:00\u001b[0m\r\n",
      "\u001b[2K   \u001b[90m━━━━━━━━━━━━━━━━━━━━━━━━━━━━━━━━━━━━━━━━\u001b[0m \u001b[32m423.3/423.3 kB\u001b[0m \u001b[31m18.6 MB/s\u001b[0m eta \u001b[36m0:00:00\u001b[0m\r\n",
      "\u001b[2K   \u001b[90m━━━━━━━━━━━━━━━━━━━━━━━━━━━━━━━━━━━━━━━━\u001b[0m \u001b[32m1.4/1.4 MB\u001b[0m \u001b[31m43.0 MB/s\u001b[0m eta \u001b[36m0:00:00\u001b[0m\r\n",
      "\u001b[2K   \u001b[90m━━━━━━━━━━━━━━━━━━━━━━━━━━━━━━━━━━━━━━━━\u001b[0m \u001b[32m42.0/42.0 kB\u001b[0m \u001b[31m1.8 MB/s\u001b[0m eta \u001b[36m0:00:00\u001b[0m\r\n",
      "\u001b[2K   \u001b[90m━━━━━━━━━━━━━━━━━━━━━━━━━━━━━━━━━━━━━━━━\u001b[0m \u001b[32m47.2/47.2 kB\u001b[0m \u001b[31m1.7 MB/s\u001b[0m eta \u001b[36m0:00:00\u001b[0m\r\n",
      "\u001b[2K   \u001b[90m━━━━━━━━━━━━━━━━━━━━━━━━━━━━━━━━━━━━━━━━\u001b[0m \u001b[32m223.6/223.6 kB\u001b[0m \u001b[31m10.2 MB/s\u001b[0m eta \u001b[36m0:00:00\u001b[0m\r\n",
      "\u001b[?25h\u001b[31mERROR: pip's dependency resolver does not currently take into account all the packages that are installed. This behaviour is the source of the following dependency conflicts.\r\n",
      "category-encoders 2.7.0 requires scikit-learn<1.6.0,>=1.0.0, but you have scikit-learn 1.6.1 which is incompatible.\r\n",
      "bigframes 1.36.0 requires rich<14,>=12.4.4, but you have rich 14.0.0 which is incompatible.\u001b[0m\u001b[31m\r\n",
      "\u001b[0m"
     ]
    }
   ],
   "source": [
    "!pip uninstall -qqy kfp jupyterlab google-generativeai tensorflow-hub 2>/dev/null\n",
    "!pip install -U -q langchain langchain-google-genai langgraph google-cloud-aiplatform pandas scikit-learn \"langchain-community>=0.2.7\" \"langchain-core>=0.2.19\""
   ]
  },
  {
   "cell_type": "code",
   "execution_count": 2,
   "id": "3f3f85bf",
   "metadata": {
    "execution": {
     "iopub.execute_input": "2025-04-11T11:08:37.114298Z",
     "iopub.status.busy": "2025-04-11T11:08:37.113923Z",
     "iopub.status.idle": "2025-04-11T11:08:56.765263Z",
     "shell.execute_reply": "2025-04-11T11:08:56.764365Z"
    },
    "papermill": {
     "duration": 19.661957,
     "end_time": "2025-04-11T11:08:56.766986",
     "exception": false,
     "start_time": "2025-04-11T11:08:37.105029",
     "status": "completed"
    },
    "tags": []
   },
   "outputs": [],
   "source": [
    "import os\n",
    "import typing\n",
    "import uuid\n",
    "from collections.abc import Iterable\n",
    "from random import randint\n",
    "from pprint import pprint\n",
    "\n",
    "from langchain_core.messages.ai import AIMessage\n",
    "from langchain_core.messages.human import HumanMessage\n",
    "from langchain_core.messages.tool import ToolMessage\n",
    "from langchain_core.tools import tool\n",
    "from langchain_google_genai import ChatGoogleGenerativeAI\n",
    "from langgraph.graph import StateGraph, START, END\n",
    "from langgraph.graph.message import add_messages\n",
    "from langgraph.prebuilt import ToolNode, tools_condition\n",
    "\n",
    "from google.cloud import aiplatform\n",
    "from langchain_community.embeddings import VertexAIEmbeddings\n",
    "from langchain_community.vectorstores.matching_engine import MatchingEngine\n",
    "\n",
    "from IPython.display import Image, display, Markdown\n",
    "\n",
    "from typing import Annotated, Literal\n",
    "from typing_extensions import TypedDict"
   ]
  },
  {
   "cell_type": "code",
   "execution_count": 3,
   "id": "6fa887b0",
   "metadata": {
    "execution": {
     "iopub.execute_input": "2025-04-11T11:08:56.778130Z",
     "iopub.status.busy": "2025-04-11T11:08:56.777545Z",
     "iopub.status.idle": "2025-04-11T11:08:56.897258Z",
     "shell.execute_reply": "2025-04-11T11:08:56.896362Z"
    },
    "papermill": {
     "duration": 0.127944,
     "end_time": "2025-04-11T11:08:56.899210",
     "exception": false,
     "start_time": "2025-04-11T11:08:56.771266",
     "status": "completed"
    },
    "tags": []
   },
   "outputs": [],
   "source": [
    "from kaggle_secrets import UserSecretsClient\n",
    "\n",
    "user_secrets = UserSecretsClient()\n",
    "GOOGLE_API_KEY = user_secrets.get_secret(\"GOOGLE_API_KEY\")\n",
    "os.environ[\"GOOGLE_API_KEY\"] = GOOGLE_API_KEY"
   ]
  },
  {
   "cell_type": "code",
   "execution_count": 4,
   "id": "9d6dd152",
   "metadata": {
    "execution": {
     "iopub.execute_input": "2025-04-11T11:08:56.908328Z",
     "iopub.status.busy": "2025-04-11T11:08:56.907954Z",
     "iopub.status.idle": "2025-04-11T11:08:56.914372Z",
     "shell.execute_reply": "2025-04-11T11:08:56.913149Z"
    },
    "papermill": {
     "duration": 0.013154,
     "end_time": "2025-04-11T11:08:56.916362",
     "exception": false,
     "start_time": "2025-04-11T11:08:56.903208",
     "status": "completed"
    },
    "tags": []
   },
   "outputs": [
    {
     "name": "stdout",
     "output_type": "stream",
     "text": [
      "Vertex AI initialized for project capstone-project in us-central1.\n"
     ]
    }
   ],
   "source": [
    "PROJECT_ID = \"capstone-project\"\n",
    "LOCATION = \"us-central1\"\n",
    "\n",
    "try:\n",
    "    aiplatform.init(project=PROJECT_ID, location=LOCATION)\n",
    "    print(f\"Vertex AI initialized for project {PROJECT_ID} in {LOCATION}.\")\n",
    "except Exception as e:\n",
    "    print(f\"Error initializing Vertex AI: {e}\")\n",
    "    print(\"Please ensure you have entered a valid PROJECT_ID and have the necessary permissions.\")\n"
   ]
  },
  {
   "cell_type": "code",
   "execution_count": 5,
   "id": "3540e6a7",
   "metadata": {
    "execution": {
     "iopub.execute_input": "2025-04-11T11:08:56.925514Z",
     "iopub.status.busy": "2025-04-11T11:08:56.925216Z",
     "iopub.status.idle": "2025-04-11T11:08:56.930944Z",
     "shell.execute_reply": "2025-04-11T11:08:56.929943Z"
    },
    "papermill": {
     "duration": 0.012042,
     "end_time": "2025-04-11T11:08:56.932584",
     "exception": false,
     "start_time": "2025-04-11T11:08:56.920542",
     "status": "completed"
    },
    "tags": []
   },
   "outputs": [],
   "source": [
    "class AgentState(TypedDict):\n",
    "    messages: Annotated[list, add_messages]\n",
    "    current_request: str | None\n",
    "    last_agent_response: str | None\n",
    "    route_decision: Literal[\"Navigation\", \"Media\", \"Communication\", \"VehicleInfo\", \"Respond\", \"Error\", None]\n",
    "    vehicle_context: list[str] | None\n",
    "    navigation_context: dict | None\n",
    "    media_context: dict | None\n",
    "    communication_context: dict | None\n",
    "    error: str | None\n",
    "    final_response_generated: bool"
   ]
  },
  {
   "cell_type": "markdown",
   "id": "c4244c1f",
   "metadata": {
    "papermill": {
     "duration": 0.00347,
     "end_time": "2025-04-11T11:08:56.939934",
     "exception": false,
     "start_time": "2025-04-11T11:08:56.936464",
     "status": "completed"
    },
    "tags": []
   },
   "source": [
    "## Tools"
   ]
  },
  {
   "cell_type": "code",
   "execution_count": 6,
   "id": "401f3ffb",
   "metadata": {
    "execution": {
     "iopub.execute_input": "2025-04-11T11:08:56.949348Z",
     "iopub.status.busy": "2025-04-11T11:08:56.948991Z",
     "iopub.status.idle": "2025-04-11T11:08:56.972820Z",
     "shell.execute_reply": "2025-04-11T11:08:56.971838Z"
    },
    "papermill": {
     "duration": 0.031064,
     "end_time": "2025-04-11T11:08:56.974743",
     "exception": false,
     "start_time": "2025-04-11T11:08:56.943679",
     "status": "completed"
    },
    "tags": []
   },
   "outputs": [],
   "source": [
    "@tool\n",
    "def navigation_tool(action: str, destination: str | None = None, poi_type: str | None = None) -> str:\n",
    "    \"\"\"\n",
    "    Simulates interaction with a Navigation API.\n",
    "    Actions can be 'find_poi', 'start_navigation', 'get_traffic'.\n",
    "    Requires destination for 'start_navigation'.\n",
    "    Requires poi_type for 'find_poi' (e.g., 'restaurant', 'gas station').\n",
    "    \"\"\"\n",
    "    print(f\"--- TOOL CALL: navigation_tool (Action: {action}, Destination: {destination}, POI: {poi_type}) ---\")\n",
    "    if action == \"find_poi\":\n",
    "        return f\"Simulated: Found nearest {poi_type or 'POI'}.\"\n",
    "    elif action == \"start_navigation\" and destination:\n",
    "        return f\"Simulated: Starting navigation to {destination}.\"\n",
    "    elif action == \"get_traffic\":\n",
    "        return \"Simulated: Traffic is moderate.\"\n",
    "    else:\n",
    "        return \"Simulated: Invalid navigation action or missing parameters.\"\n",
    "\n",
    "@tool\n",
    "def media_tool(action: str, query: str | None = None) -> str:\n",
    "    \"\"\"\n",
    "    Simulates interaction with a Media API.\n",
    "    Actions can be 'play', 'pause', 'search_music', 'search_podcast'.\n",
    "    Requires query for search actions.\n",
    "    \"\"\"\n",
    "    print(f\"--- TOOL CALL: media_tool (Action: {action}, Query: {query}) ---\")\n",
    "    if action == \"play\" and query:\n",
    "        return f\"Simulated: Playing '{query}'.\"\n",
    "    elif action == \"play\":\n",
    "        return f\"Simulated: Resuming playback.\"\n",
    "    elif action == \"pause\":\n",
    "        return \"Simulated: Pausing media.\"\n",
    "    elif action == \"search_music\" and query:\n",
    "        return f\"Simulated: Found music matching '{query}'.\"\n",
    "    elif action == \"search_podcast\" and query:\n",
    "         return f\"Simulated: Found podcasts matching '{query}'.\"\n",
    "    else:\n",
    "        return \"Simulated: Invalid media action or missing query.\"\n",
    "\n",
    "@tool\n",
    "def communication_tool(action: str, recipient: str | None = None, message: str | None = None) -> str:\n",
    "    \"\"\"\n",
    "    Simulates interaction with a Communication API (e.g., SMS, Email).\n",
    "    Actions can be 'send_message', 'read_last_message'.\n",
    "    Requires recipient and message for 'send_message'.\n",
    "    \"\"\"\n",
    "    print(f\"--- TOOL CALL: communication_tool (Action: {action}, Recipient: {recipient}) ---\")\n",
    "    if action == \"send_message\" and recipient and message:\n",
    "        return f\"Simulated: Sending message '{message}' to {recipient}.\"\n",
    "    elif action == \"read_last_message\":\n",
    "        return \"Simulated: Last message reads 'On my way!'\"\n",
    "    else:\n",
    "        return \"Simulated: Invalid communication action or missing parameters.\"\n",
    "\n",
    "@tool\n",
    "def get_vehicle_info(query: str) -> str:\n",
    "    \"\"\"\n",
    "    Provides information about the vehicle's features and functions by\n",
    "    searching the car manual. Use this for questions about how to operate\n",
    "    the car or troubleshoot issues.\n",
    "    \"\"\"\n",
    "    print(f\"--- TOOL CALL: get_vehicle_info (Query: {query}) ---\")\n",
    "    if \"headlight\" in query.lower():\n",
    "        return \"Simulated RAG: To turn on the headlights, rotate the dial on the left stalk clockwise.\"\n",
    "    elif \"tire pressure\" in query.lower():\n",
    "         return \"Simulated RAG: Recommended tire pressure is 35 PSI for all tires.\"\n",
    "    else:\n",
    "        return \"Simulated RAG: Information not found in the manual for that query.\"\n",
    "\n",
    "available_tools = [navigation_tool, media_tool, communication_tool, get_vehicle_info]"
   ]
  },
  {
   "cell_type": "code",
   "execution_count": 7,
   "id": "e086b5a8",
   "metadata": {
    "execution": {
     "iopub.execute_input": "2025-04-11T11:08:56.983755Z",
     "iopub.status.busy": "2025-04-11T11:08:56.983473Z",
     "iopub.status.idle": "2025-04-11T11:08:57.080133Z",
     "shell.execute_reply": "2025-04-11T11:08:57.078933Z"
    },
    "papermill": {
     "duration": 0.102998,
     "end_time": "2025-04-11T11:08:57.081696",
     "exception": false,
     "start_time": "2025-04-11T11:08:56.978698",
     "status": "completed"
    },
    "tags": []
   },
   "outputs": [
    {
     "name": "stdout",
     "output_type": "stream",
     "text": [
      "LLM 'models/gemini-2.0-flash' initialized with tools.\n"
     ]
    }
   ],
   "source": [
    "llm = ChatGoogleGenerativeAI(model=\"gemini-2.0-flash\")\n",
    "\n",
    "llm_with_tools = llm.bind_tools(available_tools)\n",
    "\n",
    "print(f\"LLM '{llm.model}' initialized with tools.\")"
   ]
  },
  {
   "cell_type": "code",
   "execution_count": 8,
   "id": "52ccf98c",
   "metadata": {
    "execution": {
     "iopub.execute_input": "2025-04-11T11:08:57.090636Z",
     "iopub.status.busy": "2025-04-11T11:08:57.090315Z",
     "iopub.status.idle": "2025-04-11T11:08:57.101242Z",
     "shell.execute_reply": "2025-04-11T11:08:57.100084Z"
    },
    "papermill": {
     "duration": 0.017598,
     "end_time": "2025-04-11T11:08:57.103102",
     "exception": false,
     "start_time": "2025-04-11T11:08:57.085504",
     "status": "completed"
    },
    "tags": []
   },
   "outputs": [],
   "source": [
    "def voice_interface_agent(state: AgentState) -> AgentState:\n",
    "    \"\"\"Simulates capturing user voice input and performing STT/NLU.\"\"\"\n",
    "    print(\"--- NODE: Voice Interface ---\")\n",
    "    user_input = input(\"User Input: \")\n",
    "    if user_input.lower() in ['q', 'quit', 'exit']:\n",
    "         return {\"messages\": [HumanMessage(content=user_input)], \"final_response_generated\": True, \"route_decision\": None}\n",
    "\n",
    "    return {\"messages\": [HumanMessage(content=user_input)], \"current_request\": user_input, \"final_response_generated\": False}\n",
    "\n",
    "\n",
    "def orchestrator_agent(state: AgentState) -> AgentState:\n",
    "    \"\"\"\n",
    "    The central router. Determines the next action based on user request\n",
    "    and conversation history. Decides which specialized agent/tool to call.\n",
    "    \"\"\"\n",
    "    print(\"--- NODE: Orchestrator ---\")\n",
    "    messages = state['messages']\n",
    "    user_request = state['current_request']\n",
    "    route = \"Error\"\n",
    "\n",
    "    if not user_request:\n",
    "         print(\"   Error: No user request found in state.\")\n",
    "         return {\"error\": \"Orchestrator received no user request.\", \"route_decision\": \"Error\"}\n",
    "        \n",
    "    request_lower = user_request.lower()\n",
    "    if \"navigate\" in request_lower or \"directions\" in request_lower or \"traffic\" in request_lower or \"find\" in request_lower and (\"restaurant\" in request_lower or \"gas\" in request_lower or \"poi\" in request_lower):\n",
    "        route = \"Navigation\"\n",
    "    elif \"play\" in request_lower or \"music\" in request_lower or \"podcast\" in request_lower or \"pause\" in request_lower or \"media\" in request_lower:\n",
    "        route = \"Media\"\n",
    "    elif \"message\" in request_lower or \"text\" in request_lower or \"email\" in request_lower or \"call\" in request_lower: # Assuming call implies communication for now\n",
    "        route = \"Communication\"\n",
    "    elif \"how do i\" in request_lower or \"car manual\" in request_lower or \"vehicle\" in request_lower or \"feature\" in request_lower or \"tire pressure\" in request_lower or \"headlight\" in request_lower:\n",
    "        route = \"VehicleInfo\"\n",
    "    else:\n",
    "        print(\"   INFO: No specific tool/agent identified, attempting direct response.\")\n",
    "        route = \"Respond\"\n",
    "\n",
    "\n",
    "    print(f\"   Decision: Routing to '{route}'\")\n",
    "    return {\"route_decision\": route}\n",
    "\n",
    "navigation_node = ToolNode([navigation_tool])\n",
    "media_node = ToolNode([media_tool])\n",
    "communication_node = ToolNode([communication_tool])\n",
    "vehicle_info_node = ToolNode([get_vehicle_info])"
   ]
  },
  {
   "cell_type": "code",
   "execution_count": null,
   "id": "05214e54",
   "metadata": {
    "papermill": {
     "duration": 0.003752,
     "end_time": "2025-04-11T11:08:57.110883",
     "exception": false,
     "start_time": "2025-04-11T11:08:57.107131",
     "status": "completed"
    },
    "tags": []
   },
   "outputs": [],
   "source": []
  }
 ],
 "metadata": {
  "kaggle": {
   "accelerator": "none",
   "dataSources": [],
   "dockerImageVersionId": 31012,
   "isGpuEnabled": false,
   "isInternetEnabled": true,
   "language": "python",
   "sourceType": "notebook"
  },
  "kernelspec": {
   "display_name": "Python 3",
   "language": "python",
   "name": "python3"
  },
  "language_info": {
   "codemirror_mode": {
    "name": "ipython",
    "version": 3
   },
   "file_extension": ".py",
   "mimetype": "text/x-python",
   "name": "python",
   "nbconvert_exporter": "python",
   "pygments_lexer": "ipython3",
   "version": "3.11.11"
  },
  "papermill": {
   "default_parameters": {},
   "duration": 86.286481,
   "end_time": "2025-04-11T11:09:00.195785",
   "environment_variables": {},
   "exception": null,
   "input_path": "__notebook__.ipynb",
   "output_path": "__notebook__.ipynb",
   "parameters": {},
   "start_time": "2025-04-11T11:07:33.909304",
   "version": "2.6.0"
  }
 },
 "nbformat": 4,
 "nbformat_minor": 5
}
