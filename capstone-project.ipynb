{
 "cells": [
  {
   "cell_type": "markdown",
   "id": "70efa5dc",
   "metadata": {
    "papermill": {
     "duration": 0.004406,
     "end_time": "2025-04-13T19:26:55.385783",
     "exception": false,
     "start_time": "2025-04-13T19:26:55.381377",
     "status": "completed"
    },
    "tags": []
   },
   "source": [
    "## Autonomous Multi-Agent System for Enhanced Automotive User Experience\n",
    "\n",
    "#### Capstone Project - Kaggle 5-Day Generative AI Course"
   ]
  },
  {
   "cell_type": "code",
   "execution_count": 1,
   "id": "ab182a8a",
   "metadata": {
    "execution": {
     "iopub.execute_input": "2025-04-13T19:26:55.394522Z",
     "iopub.status.busy": "2025-04-13T19:26:55.394113Z",
     "iopub.status.idle": "2025-04-13T19:27:51.400818Z",
     "shell.execute_reply": "2025-04-13T19:27:51.399708Z"
    },
    "papermill": {
     "duration": 56.013159,
     "end_time": "2025-04-13T19:27:51.402681",
     "exception": false,
     "start_time": "2025-04-13T19:26:55.389522",
     "status": "completed"
    },
    "tags": []
   },
   "outputs": [
    {
     "name": "stdout",
     "output_type": "stream",
     "text": [
      "\u001b[2K     \u001b[90m━━━━━━━━━━━━━━━━━━━━━━━━━━━━━━━━━━━━━━━━\u001b[0m \u001b[32m43.5/43.5 kB\u001b[0m \u001b[31m2.0 MB/s\u001b[0m eta \u001b[36m0:00:00\u001b[0m\r\n",
      "\u001b[2K   \u001b[90m━━━━━━━━━━━━━━━━━━━━━━━━━━━━━━━━━━━━━━━━\u001b[0m \u001b[32m1.0/1.0 MB\u001b[0m \u001b[31m16.9 MB/s\u001b[0m eta \u001b[36m0:00:00\u001b[0m\r\n",
      "\u001b[2K   \u001b[90m━━━━━━━━━━━━━━━━━━━━━━━━━━━━━━━━━━━━━━━━\u001b[0m \u001b[32m42.0/42.0 kB\u001b[0m \u001b[31m1.8 MB/s\u001b[0m eta \u001b[36m0:00:00\u001b[0m\r\n",
      "\u001b[2K   \u001b[90m━━━━━━━━━━━━━━━━━━━━━━━━━━━━━━━━━━━━━━━━\u001b[0m \u001b[32m144.7/144.7 kB\u001b[0m \u001b[31m7.9 MB/s\u001b[0m eta \u001b[36m0:00:00\u001b[0m\r\n",
      "\u001b[2K   \u001b[90m━━━━━━━━━━━━━━━━━━━━━━━━━━━━━━━━━━━━━━━━\u001b[0m \u001b[32m7.6/7.6 MB\u001b[0m \u001b[31m70.2 MB/s\u001b[0m eta \u001b[36m0:00:00\u001b[0m\r\n",
      "\u001b[2K   \u001b[90m━━━━━━━━━━━━━━━━━━━━━━━━━━━━━━━━━━━━━━━━\u001b[0m \u001b[32m13.5/13.5 MB\u001b[0m \u001b[31m75.3 MB/s\u001b[0m eta \u001b[36m0:00:00\u001b[0m\r\n",
      "\u001b[2K   \u001b[90m━━━━━━━━━━━━━━━━━━━━━━━━━━━━━━━━━━━━━━━━\u001b[0m \u001b[32m2.5/2.5 MB\u001b[0m \u001b[31m37.0 MB/s\u001b[0m eta \u001b[36m0:00:00\u001b[0m\r\n",
      "\u001b[2K   \u001b[90m━━━━━━━━━━━━━━━━━━━━━━━━━━━━━━━━━━━━━━━━\u001b[0m \u001b[32m423.3/423.3 kB\u001b[0m \u001b[31m21.9 MB/s\u001b[0m eta \u001b[36m0:00:00\u001b[0m\r\n",
      "\u001b[2K   \u001b[90m━━━━━━━━━━━━━━━━━━━━━━━━━━━━━━━━━━━━━━━━\u001b[0m \u001b[32m1.4/1.4 MB\u001b[0m \u001b[31m48.0 MB/s\u001b[0m eta \u001b[36m0:00:00\u001b[0m\r\n",
      "\u001b[2K   \u001b[90m━━━━━━━━━━━━━━━━━━━━━━━━━━━━━━━━━━━━━━━━\u001b[0m \u001b[32m42.0/42.0 kB\u001b[0m \u001b[31m1.8 MB/s\u001b[0m eta \u001b[36m0:00:00\u001b[0m\r\n",
      "\u001b[2K   \u001b[90m━━━━━━━━━━━━━━━━━━━━━━━━━━━━━━━━━━━━━━━━\u001b[0m \u001b[32m47.2/47.2 kB\u001b[0m \u001b[31m2.1 MB/s\u001b[0m eta \u001b[36m0:00:00\u001b[0m\r\n",
      "\u001b[2K   \u001b[90m━━━━━━━━━━━━━━━━━━━━━━━━━━━━━━━━━━━━━━━━\u001b[0m \u001b[32m223.6/223.6 kB\u001b[0m \u001b[31m9.1 MB/s\u001b[0m eta \u001b[36m0:00:00\u001b[0m\r\n",
      "\u001b[?25h\u001b[31mERROR: pip's dependency resolver does not currently take into account all the packages that are installed. This behaviour is the source of the following dependency conflicts.\r\n",
      "category-encoders 2.7.0 requires scikit-learn<1.6.0,>=1.0.0, but you have scikit-learn 1.6.1 which is incompatible.\r\n",
      "bigframes 1.36.0 requires rich<14,>=12.4.4, but you have rich 14.0.0 which is incompatible.\u001b[0m\u001b[31m\r\n",
      "\u001b[2K   \u001b[90m━━━━━━━━━━━━━━━━━━━━━━━━━━━━━━━━━━━━━━━━\u001b[0m \u001b[32m332.3/332.3 kB\u001b[0m \u001b[31m5.7 MB/s\u001b[0m eta \u001b[36m0:00:00\u001b[0m\r\n",
      "\u001b[?25h"
     ]
    }
   ],
   "source": [
    "!pip uninstall -qqy kfp jupyterlab google-generativeai tensorflow-hub 2>/dev/null\n",
    "!pip install -U -q langchain langchain-google-genai langgraph google-cloud-aiplatform pandas scikit-learn \"langchain-community>=0.2.7\" \"langchain-core>=0.2.19\"\n",
    "!pip install -U -q google-cloud-speech"
   ]
  },
  {
   "cell_type": "code",
   "execution_count": 2,
   "id": "38a1eb20",
   "metadata": {
    "execution": {
     "iopub.execute_input": "2025-04-13T19:27:51.415357Z",
     "iopub.status.busy": "2025-04-13T19:27:51.414994Z",
     "iopub.status.idle": "2025-04-13T19:28:07.096060Z",
     "shell.execute_reply": "2025-04-13T19:28:07.095121Z"
    },
    "papermill": {
     "duration": 15.690273,
     "end_time": "2025-04-13T19:28:07.097894",
     "exception": false,
     "start_time": "2025-04-13T19:27:51.407621",
     "status": "completed"
    },
    "tags": []
   },
   "outputs": [],
   "source": [
    "import os\n",
    "import typing\n",
    "import uuid\n",
    "import math\n",
    "import heapq\n",
    "from collections.abc import Iterable\n",
    "from random import randint\n",
    "from pprint import pprint\n",
    "\n",
    "from langchain_core.messages.ai import AIMessage\n",
    "from langchain_core.messages.human import HumanMessage\n",
    "from langchain_core.messages.tool import ToolMessage\n",
    "from langchain_core.tools import tool\n",
    "from langchain_google_genai import ChatGoogleGenerativeAI\n",
    "from langgraph.graph import StateGraph, START, END\n",
    "from langgraph.graph.message import add_messages\n",
    "from langgraph.prebuilt import ToolNode, tools_condition\n",
    "\n",
    "from google.cloud import aiplatform\n",
    "from langchain_community.embeddings import VertexAIEmbeddings\n",
    "from langchain_community.vectorstores.matching_engine import MatchingEngine\n",
    "\n",
    "from IPython.display import Image, display, Markdown\n",
    "\n",
    "from typing import Annotated, Literal\n",
    "from typing_extensions import TypedDict"
   ]
  },
  {
   "cell_type": "code",
   "execution_count": 3,
   "id": "e93ece46",
   "metadata": {
    "execution": {
     "iopub.execute_input": "2025-04-13T19:28:07.109340Z",
     "iopub.status.busy": "2025-04-13T19:28:07.108780Z",
     "iopub.status.idle": "2025-04-13T19:28:07.191514Z",
     "shell.execute_reply": "2025-04-13T19:28:07.190476Z"
    },
    "papermill": {
     "duration": 0.09043,
     "end_time": "2025-04-13T19:28:07.193408",
     "exception": false,
     "start_time": "2025-04-13T19:28:07.102978",
     "status": "completed"
    },
    "tags": []
   },
   "outputs": [],
   "source": [
    "from kaggle_secrets import UserSecretsClient\n",
    "\n",
    "user_secrets = UserSecretsClient()\n",
    "GOOGLE_API_KEY = user_secrets.get_secret(\"GOOGLE_API_KEY\")\n",
    "os.environ[\"GOOGLE_API_KEY\"] = GOOGLE_API_KEY"
   ]
  },
  {
   "cell_type": "code",
   "execution_count": 4,
   "id": "58ea6643",
   "metadata": {
    "execution": {
     "iopub.execute_input": "2025-04-13T19:28:07.204426Z",
     "iopub.status.busy": "2025-04-13T19:28:07.204063Z",
     "iopub.status.idle": "2025-04-13T19:28:07.210362Z",
     "shell.execute_reply": "2025-04-13T19:28:07.209248Z"
    },
    "papermill": {
     "duration": 0.013393,
     "end_time": "2025-04-13T19:28:07.211808",
     "exception": false,
     "start_time": "2025-04-13T19:28:07.198415",
     "status": "completed"
    },
    "tags": []
   },
   "outputs": [
    {
     "name": "stdout",
     "output_type": "stream",
     "text": [
      "Vertex AI initialized for project capstone-project in us-central1.\n"
     ]
    }
   ],
   "source": [
    "PROJECT_ID = \"capstone-project\"\n",
    "LOCATION = \"us-central1\"\n",
    "\n",
    "try:\n",
    "    aiplatform.init(project=PROJECT_ID, location=LOCATION)\n",
    "    print(f\"Vertex AI initialized for project {PROJECT_ID} in {LOCATION}.\")\n",
    "except Exception as e:\n",
    "    print(f\"Error initializing Vertex AI: {e}\")"
   ]
  },
  {
   "cell_type": "code",
   "execution_count": 5,
   "id": "4edce775",
   "metadata": {
    "execution": {
     "iopub.execute_input": "2025-04-13T19:28:07.222881Z",
     "iopub.status.busy": "2025-04-13T19:28:07.222539Z",
     "iopub.status.idle": "2025-04-13T19:28:07.236703Z",
     "shell.execute_reply": "2025-04-13T19:28:07.235788Z"
    },
    "papermill": {
     "duration": 0.021366,
     "end_time": "2025-04-13T19:28:07.238036",
     "exception": false,
     "start_time": "2025-04-13T19:28:07.216670",
     "status": "completed"
    },
    "tags": []
   },
   "outputs": [],
   "source": [
    "locations = {\n",
    "    \"Home\": {\"type\": \"residence\", \"x\": 0, \"y\": 0},\n",
    "    \"Downtown Cafe\": {\"type\": \"coffee shop\", \"x\": 10, \"y\": 5},\n",
    "    \"Tech Park Cafe\": {\"type\": \"coffee shop\", \"x\": 45, \"y\": 35},\n",
    "    \"Main St Gas\": {\"type\": \"gas station\", \"x\": 12, \"y\": 0},\n",
    "    \"Highway Gas Stop\": {\"type\": \"gas station\", \"x\": 50, \"y\": 50},\n",
    "    \"Luigi's Pizza\": {\"type\": \"restaurant\", \"x\": 9, \"y\": 8},\n",
    "    \"Ocean Sushi\": {\"type\": \"restaurant\", \"x\": 25, \"y\": 18},\n",
    "    \"City Hall\": {\"type\": \"government\", \"x\": 20, \"y\": 20},\n",
    "    \"Shopping Mall\": {\"type\": \"shopping\", \"x\": 22, \"y\": 22},\n",
    "    \"Tech Park Work\": {\"type\": \"office\", \"x\": 40, \"y\": 30},\n",
    "    \"Park Entrance\": {\"type\": \"park\", \"x\": 18, \"y\": 25},\n",
    "    \"Library\": {\"type\": \"government\", \"x\": 19, \"y\": 19}\n",
    "}\n",
    "\n",
    "connections = {\n",
    "    \"Home\": {\"Main St Gas\": 12, \"Downtown Cafe\": 11, \"Luigi's Pizza\": 12},\n",
    "    \"Main St Gas\": {\"Home\": 12, \"Downtown Cafe\": 2, \"City Hall\": 10},\n",
    "    \"Downtown Cafe\": {\"Home\": 11, \"Main St Gas\": 2, \"Luigi's Pizza\": 1},\n",
    "    \"Luigi's Pizza\": {\"Downtown Cafe\": 1, \"Ocean Sushi\": 16, \"Library\": 13},\n",
    "    \"City Hall\": {\"Main St Gas\": 10, \"Library\": 1, \"Shopping Mall\": 2, \"Park Entrance\": 6, \"Ocean Sushi\": 7},\n",
    "    \"Library\": {\"Luigi's Pizza\": 13, \"City Hall\": 1},\n",
    "    \"Shopping Mall\": {\"City Hall\": 2, \"Park Entrance\": 3, \"Ocean Sushi\": 5},\n",
    "    \"Park Entrance\": {\"City Hall\": 6, \"Shopping Mall\": 3, \"Tech Park Work\": 15},\n",
    "    \"Ocean Sushi\": {\"Luigi's Pizza\": 16, \"City Hall\": 7, \"Shopping Mall\": 5, \"Tech Park Work\": 18},\n",
    "    \"Tech Park Work\": {\"Ocean Sushi\": 18, \"Park Entrance\": 15, \"Tech Park Cafe\": 5, \"Highway Gas Stop\": 12},\n",
    "    \"Tech Park Cafe\": {\"Tech Park Work\": 5, \"Highway Gas Stop\": 10},\n",
    "    \"Highway Gas Stop\": {\"Tech Park Cafe\": 10, \"Tech Park Work\": 12}\n",
    "}\n",
    "\n",
    "nodes_to_update = {}\n",
    "for node, neighbours in connections.items():\n",
    "    for neighbour, distance in neighbours.items():\n",
    "        if neighbour not in connections:\n",
    "             nodes_to_update[neighbour] = {}\n",
    "        if node not in connections.get(neighbour, {}):\n",
    "             if neighbour not in nodes_to_update: nodes_to_update[neighbour] = {}\n",
    "             nodes_to_update[neighbour][node] = distance\n",
    "connections.update(nodes_to_update)\n",
    "\n",
    "current_location_name = \"Home\"\n",
    "\n",
    "def find_shortest_path(graph, start, end):\n",
    "    \"\"\"Finds the shortest path between start and end nodes using Dijkstra.\"\"\"\n",
    "    distances = {node: float('inf') for node in graph}\n",
    "    distances[start] = 0\n",
    "    previous_nodes = {node: None for node in graph}\n",
    "    priority_queue = [(0, start)]\n",
    "\n",
    "    while priority_queue:\n",
    "        current_distance, current_node = heapq.heappop(priority_queue)\n",
    "\n",
    "        if current_distance > distances[current_node]:\n",
    "            continue\n",
    "\n",
    "        if current_node == end:\n",
    "            break\n",
    "\n",
    "        if current_node not in graph:\n",
    "             continue\n",
    "\n",
    "        for neighbor, weight in graph[current_node].items():\n",
    "            distance = current_distance + weight\n",
    "            if distance < distances[neighbor]:\n",
    "                distances[neighbor] = distance\n",
    "                previous_nodes[neighbor] = current_node\n",
    "                heapq.heappush(priority_queue, (distance, neighbor))\n",
    "\n",
    "    path = []\n",
    "    current = end\n",
    "    if distances[current] == float('inf'):\n",
    "        return None, float('inf')\n",
    "\n",
    "    while current is not None:\n",
    "        path.append(current)\n",
    "        current = previous_nodes[current]\n",
    "    path.reverse()\n",
    "\n",
    "    return path, distances[end]"
   ]
  },
  {
   "cell_type": "code",
   "execution_count": 6,
   "id": "cc4a5a36",
   "metadata": {
    "execution": {
     "iopub.execute_input": "2025-04-13T19:28:07.248524Z",
     "iopub.status.busy": "2025-04-13T19:28:07.248198Z",
     "iopub.status.idle": "2025-04-13T19:28:07.253128Z",
     "shell.execute_reply": "2025-04-13T19:28:07.252390Z"
    },
    "papermill": {
     "duration": 0.011745,
     "end_time": "2025-04-13T19:28:07.254582",
     "exception": false,
     "start_time": "2025-04-13T19:28:07.242837",
     "status": "completed"
    },
    "tags": []
   },
   "outputs": [],
   "source": [
    "class AgentState(TypedDict):\n",
    "    messages: Annotated[list, add_messages]\n",
    "    current_request: str | None\n",
    "    last_agent_response: str | None\n",
    "    route_decision: Literal[\"Navigation\", \"Media\", \"Communication\", \"VehicleInfo\", \"Respond\", \"Error\", None]\n",
    "    vehicle_context: list[str] | None\n",
    "    navigation_context: dict | None\n",
    "    media_context: dict | None\n",
    "    communication_context: dict | None\n",
    "    error: str | None\n",
    "    final_response_generated: bool"
   ]
  },
  {
   "cell_type": "markdown",
   "id": "2b88afd5",
   "metadata": {
    "papermill": {
     "duration": 0.004388,
     "end_time": "2025-04-13T19:28:07.264119",
     "exception": false,
     "start_time": "2025-04-13T19:28:07.259731",
     "status": "completed"
    },
    "tags": []
   },
   "source": [
    "## Tools"
   ]
  },
  {
   "cell_type": "code",
   "execution_count": 7,
   "id": "cfcfdb39",
   "metadata": {
    "execution": {
     "iopub.execute_input": "2025-04-13T19:28:07.275095Z",
     "iopub.status.busy": "2025-04-13T19:28:07.274784Z",
     "iopub.status.idle": "2025-04-13T19:28:07.302732Z",
     "shell.execute_reply": "2025-04-13T19:28:07.301934Z"
    },
    "papermill": {
     "duration": 0.035329,
     "end_time": "2025-04-13T19:28:07.304085",
     "exception": false,
     "start_time": "2025-04-13T19:28:07.268756",
     "status": "completed"
    },
    "tags": []
   },
   "outputs": [],
   "source": [
    "@tool\n",
    "def navigation_tool(action: str, destination: str | None = None, poi_type: str | None = None) -> str:\n",
    "    \"\"\"\n",
    "    Handles navigation tasks using a local graph map dataset.\n",
    "    Actions: 'find_poi', 'start_navigation', 'get_traffic'.\n",
    "    Requires 'poi_type' for 'find_poi' (e.g., 'coffee shop', 'gas station').\n",
    "    Requires 'destination' name (must match a key in the 'locations' dictionary) for 'start_navigation'.\n",
    "    'get_traffic' action is simplified.\n",
    "    \"\"\"\n",
    "    print(f\"--- TOOL CALL: navigation_tool (Action: {action}, Destination: {destination}, POI: {poi_type}) ---\")\n",
    "    global current_location_name\n",
    "    global locations\n",
    "    global connections\n",
    "\n",
    "    current_loc_details = locations.get(current_location_name)\n",
    "    if not current_loc_details:\n",
    "        return \"Error: Current location unknown or invalid.\"\n",
    "    current_x = current_loc_details[\"x\"]\n",
    "    current_y = current_loc_details[\"y\"]\n",
    "\n",
    "    try:\n",
    "        if action == \"find_poi\":\n",
    "            if poi_type:\n",
    "                found_pois = []\n",
    "                poi_type_lower = poi_type.lower()\n",
    "                for name, details in locations.items():\n",
    "                    if details[\"type\"] == poi_type_lower:\n",
    "                        path, distance = find_shortest_path(connections, current_location_name, name)\n",
    "                        if path:\n",
    "                            found_pois.append({\"name\": name, \"distance\": distance, \"path\": path})\n",
    "\n",
    "                if not found_pois:\n",
    "                    return f\"Sorry, I couldn't find any reachable '{poi_type}' from {current_location_name} using the available roads.\"\n",
    "\n",
    "                found_pois.sort(key=lambda p: p[\"distance\"])\n",
    "                nearest_poi = found_pois[0]\n",
    "                return (f\"Found '{poi_type}': '{nearest_poi['name']}' is the closest reachable one \"\n",
    "                        f\"(distance: {nearest_poi['distance']:.1f} units via {', '.join(nearest_poi['path'])}).\")\n",
    "            else:\n",
    "                 return \"Error: Please specify a type of place (POI) to find (e.g., 'coffee shop').\"\n",
    "\n",
    "        elif action == \"start_navigation\":\n",
    "            if destination:\n",
    "                if destination == current_location_name:\n",
    "                    return f\"You are already at {destination}.\"\n",
    "\n",
    "                if destination in locations:\n",
    "                    path, distance = find_shortest_path(connections, current_location_name, destination)\n",
    "                    if path:\n",
    "                        current_location_name = destination\n",
    "                        print(f\"   INFO: Simulating navigation. Current location updated to {destination}\")\n",
    "                        first_step = path[1] if len(path) > 1 else destination\n",
    "                        return (f\"Starting navigation to {destination}. \"\n",
    "                                f\"Estimated travel distance: {distance:.1f} units. \"\n",
    "                                f\"Route: {', '.join(path)}. First head towards {first_step}.\")\n",
    "                    else:\n",
    "                        return f\"Sorry, I couldn't find a route in the local map data from {current_location_name} to {destination}.\"\n",
    "                else:\n",
    "                    return f\"Sorry, I don't have '{destination}' in my local map data.\"\n",
    "            else:\n",
    "                 return \"Error: Please specify a destination for navigation.\"\n",
    "\n",
    "        elif action == \"get_traffic\":\n",
    "             if destination:\n",
    "                 if destination in locations:\n",
    "                      path, distance = find_shortest_path(connections, current_location_name, destination)\n",
    "                      if distance > 20:\n",
    "                          return f\"Simulated: Traffic towards {destination} looks heavy based on distance.\"\n",
    "                      else:\n",
    "                          return f\"Simulated: Traffic towards {destination} looks moderate.\"\n",
    "                 else:\n",
    "                     return f\"Cannot check traffic for unknown destination: {destination}\"\n",
    "             else:\n",
    "                 return \"Simulated: Traffic in the current area appears moderate.\"\n",
    "\n",
    "        else:\n",
    "            return f\"Error: Invalid navigation action '{action}'. Use 'find_poi', 'start_navigation', or 'get_traffic'.\"\n",
    "\n",
    "    except Exception as e:\n",
    "        print(f\"   ERROR during local navigation tool execution: {e}\")\n",
    "        return f\"Sorry, I encountered an internal error using the local navigation tool.\"\n",
    "\n",
    "\n",
    "@tool\n",
    "def media_tool(action: str, query: str | None = None) -> str:\n",
    "    \"\"\"\n",
    "    Simulates interaction with a Media API.\n",
    "    Actions can be 'play', 'pause', 'search_music', 'search_podcast'.\n",
    "    Requires query for search actions.\n",
    "    \"\"\"\n",
    "    print(f\"--- TOOL CALL: media_tool (Action: {action}, Query: {query}) ---\")\n",
    "    if action == \"play\" and query:\n",
    "        return f\"Simulated: Playing '{query}'.\"\n",
    "    elif action == \"play\":\n",
    "        return f\"Simulated: Resuming playback.\"\n",
    "    elif action == \"pause\":\n",
    "        return \"Simulated: Pausing media.\"\n",
    "    elif action == \"search_music\" and query:\n",
    "        return f\"Simulated: Found music matching '{query}'.\"\n",
    "    elif action == \"search_podcast\" and query:\n",
    "         return f\"Simulated: Found podcasts matching '{query}'.\"\n",
    "    else:\n",
    "        return \"Simulated: Invalid media action or missing query.\"\n",
    "\n",
    "@tool\n",
    "def communication_tool(action: str, recipient: str | None = None, message: str | None = None) -> str:\n",
    "    \"\"\"\n",
    "    Simulates interaction with a Communication API (e.g., SMS, Email).\n",
    "    Actions can be 'send_message', 'read_last_message'.\n",
    "    Requires recipient and message for 'send_message'.\n",
    "    \"\"\"\n",
    "    print(f\"--- TOOL CALL: communication_tool (Action: {action}, Recipient: {recipient}) ---\")\n",
    "    if action == \"send_message\" and recipient and message:\n",
    "        return f\"Simulated: Sending message '{message}' to {recipient}.\"\n",
    "    elif action == \"read_last_message\":\n",
    "        return \"Simulated: Last message reads 'On my way!'\"\n",
    "    else:\n",
    "        return \"Simulated: Invalid communication action or missing parameters.\"\n",
    "\n",
    "@tool\n",
    "def get_vehicle_info(query: str) -> str:\n",
    "    \"\"\"\n",
    "    Provides information about the vehicle's features and functions by\n",
    "    searching the car manual. Use this for questions about how to operate\n",
    "    the car or troubleshoot issues.\n",
    "    \"\"\"\n",
    "    print(f\"--- TOOL CALL: get_vehicle_info (Query: {query}) ---\")\n",
    "    if \"headlight\" in query.lower():\n",
    "        return \"Simulated RAG: To turn on the headlights, rotate the dial on the left stalk clockwise.\"\n",
    "    elif \"tire pressure\" in query.lower():\n",
    "         return \"Simulated RAG: Recommended tire pressure is 35 PSI for all tires.\"\n",
    "    else:\n",
    "        return \"Simulated RAG: Information not found in the manual for that query.\"\n",
    "\n",
    "available_tools = [navigation_tool, media_tool, communication_tool, get_vehicle_info]"
   ]
  },
  {
   "cell_type": "code",
   "execution_count": 8,
   "id": "d2081651",
   "metadata": {
    "execution": {
     "iopub.execute_input": "2025-04-13T19:28:07.314701Z",
     "iopub.status.busy": "2025-04-13T19:28:07.314395Z",
     "iopub.status.idle": "2025-04-13T19:28:07.398125Z",
     "shell.execute_reply": "2025-04-13T19:28:07.397071Z"
    },
    "papermill": {
     "duration": 0.090763,
     "end_time": "2025-04-13T19:28:07.399626",
     "exception": false,
     "start_time": "2025-04-13T19:28:07.308863",
     "status": "completed"
    },
    "tags": []
   },
   "outputs": [
    {
     "name": "stdout",
     "output_type": "stream",
     "text": [
      "LLM 'models/gemini-2.0-flash' initialized with tools.\n"
     ]
    }
   ],
   "source": [
    "llm = ChatGoogleGenerativeAI(model=\"gemini-2.0-flash\")\n",
    "\n",
    "llm_with_tools = llm.bind_tools(available_tools)\n",
    "\n",
    "print(f\"LLM '{llm.model}' initialized with tools.\")"
   ]
  },
  {
   "cell_type": "code",
   "execution_count": 9,
   "id": "98813420",
   "metadata": {
    "execution": {
     "iopub.execute_input": "2025-04-13T19:28:07.411058Z",
     "iopub.status.busy": "2025-04-13T19:28:07.410779Z",
     "iopub.status.idle": "2025-04-13T19:28:07.422996Z",
     "shell.execute_reply": "2025-04-13T19:28:07.422049Z"
    },
    "papermill": {
     "duration": 0.019765,
     "end_time": "2025-04-13T19:28:07.424459",
     "exception": false,
     "start_time": "2025-04-13T19:28:07.404694",
     "status": "completed"
    },
    "tags": []
   },
   "outputs": [],
   "source": [
    "def voice_interface_agent(state: AgentState) -> AgentState:\n",
    "    \"\"\"Simulates capturing user voice input and performing STT/NLU.\"\"\"\n",
    "    print(\"--- NODE: Voice Interface ---\")\n",
    "    user_input = input(\"User Input: \")\n",
    "    if user_input.lower() in ['q', 'quit', 'exit']:\n",
    "         return {\"messages\": [HumanMessage(content=user_input)], \"final_response_generated\": True, \"route_decision\": None}\n",
    "\n",
    "    return {\"messages\": [HumanMessage(content=user_input)], \"current_request\": user_input, \"final_response_generated\": False}\n",
    "\n",
    "\n",
    "def orchestrator_agent(state: AgentState) -> AgentState:\n",
    "    \"\"\"\n",
    "    The central router. Determines the next action based on user request\n",
    "    and conversation history. Decides which specialized agent/tool to call.\n",
    "    \"\"\"\n",
    "    print(\"--- NODE: Orchestrator ---\")\n",
    "    messages = state['messages']\n",
    "    user_request = state['current_request']\n",
    "    route = \"Error\"\n",
    "\n",
    "    if not user_request:\n",
    "         print(\"   Error: No user request found in state.\")\n",
    "         return {\"error\": \"Orchestrator received no user request.\", \"route_decision\": \"Error\"}\n",
    "        \n",
    "    request_lower = user_request.lower()\n",
    "    if \"navigate\" in request_lower or \"directions\" in request_lower or \"traffic\" in request_lower or \"find\" in request_lower and (\"restaurant\" in request_lower or \"gas\" in request_lower or \"poi\" in request_lower):\n",
    "        route = \"Navigation\"\n",
    "    elif \"play\" in request_lower or \"music\" in request_lower or \"podcast\" in request_lower or \"pause\" in request_lower or \"media\" in request_lower:\n",
    "        route = \"Media\"\n",
    "    elif \"message\" in request_lower or \"text\" in request_lower or \"email\" in request_lower or \"call\" in request_lower: # Assuming call implies communication for now\n",
    "        route = \"Communication\"\n",
    "    elif \"how do i\" in request_lower or \"car manual\" in request_lower or \"vehicle\" in request_lower or \"feature\" in request_lower or \"tire pressure\" in request_lower or \"headlight\" in request_lower:\n",
    "        route = \"VehicleInfo\"\n",
    "    else:\n",
    "        print(\"   INFO: No specific tool/agent identified, attempting direct response.\")\n",
    "        route = \"Respond\"\n",
    "\n",
    "\n",
    "    print(f\"   Decision: Routing to '{route}'\")\n",
    "    return {\"route_decision\": route}\n",
    "\n",
    "navigation_node = ToolNode([navigation_tool])\n",
    "media_node = ToolNode([media_tool])\n",
    "communication_node = ToolNode([communication_tool])\n",
    "vehicle_info_node = ToolNode([get_vehicle_info])\n",
    "\n",
    "def response_agent(state: AgentState) -> AgentState:\n",
    "    \"\"\"Generates the final response to the user based on gathered context.\"\"\"\n",
    "    print(\"--- NODE: Response Agent ---\")\n",
    "    user_request = state.get('current_request', 'the user request')\n",
    "    context = state.get('last_agent_response', None)\n",
    "\n",
    "    prompt = f\"You are an automotive assistant. The user asked: '{user_request}'. \"\n",
    "    if context:\n",
    "        prompt += f\"Based on the following information: '{context}'. Formulate a helpful and concise response.\"\n",
    "    else:\n",
    "        prompt += \"Formulate a helpful and concise response. If you cannot fulfill the request based on the conversation history, politely say so.\"\n",
    "\n",
    "    response = llm.invoke([HumanMessage(content=prompt)])\n",
    "\n",
    "    print(f\"   Generated response: {response.content[:100]}...\")\n",
    "    \n",
    "    return {\"messages\": [response], \"final_response_generated\": True}\n",
    "\n",
    "def error_node(state: AgentState) -> AgentState:\n",
    "    \"\"\"Handles errors and informs the user.\"\"\"\n",
    "    print(\"--- NODE: Error Handler ---\")\n",
    "    error_message = state.get('error', 'An unknown error occurred.')\n",
    "    response = AIMessage(content=f\"Sorry, I encountered an error: {error_message}. Please try again.\")\n",
    "    return {\"messages\": [response], \"final_response_generated\": True}"
   ]
  },
  {
   "cell_type": "markdown",
   "id": "5a2367b7",
   "metadata": {
    "papermill": {
     "duration": 0.004528,
     "end_time": "2025-04-13T19:28:07.434083",
     "exception": false,
     "start_time": "2025-04-13T19:28:07.429555",
     "status": "completed"
    },
    "tags": []
   },
   "source": [
    "## Define Graph Edges and Conditional Routing"
   ]
  },
  {
   "cell_type": "code",
   "execution_count": 10,
   "id": "6ed9bf16",
   "metadata": {
    "execution": {
     "iopub.execute_input": "2025-04-13T19:28:07.444950Z",
     "iopub.status.busy": "2025-04-13T19:28:07.444640Z",
     "iopub.status.idle": "2025-04-13T19:28:07.451292Z",
     "shell.execute_reply": "2025-04-13T19:28:07.450372Z"
    },
    "papermill": {
     "duration": 0.014135,
     "end_time": "2025-04-13T19:28:07.452977",
     "exception": false,
     "start_time": "2025-04-13T19:28:07.438842",
     "status": "completed"
    },
    "tags": []
   },
   "outputs": [],
   "source": [
    "def select_route(state: AgentState) -> Literal[\"Navigation\", \"Media\", \"Communication\", \"VehicleInfo\", \"Respond\", \"Error\", \"__end__\"]:\n",
    "    \"\"\"Determines the next node to execute based on the orchestrator's decision or exit conditions.\"\"\"\n",
    "    print(\"--- ROUTING ---\")\n",
    "    if state.get(\"final_response_generated\", False):\n",
    "        print(\"   Decision: End of interaction.\")\n",
    "        return END\n",
    "    decision = state.get('route_decision')\n",
    "    if decision == \"Navigation\":\n",
    "        print(\"   Decision: Route to Navigation Node\")\n",
    "        return \"Navigation\"\n",
    "    elif decision == \"Media\":\n",
    "        print(\"   Decision: Route to Media Node\")\n",
    "        return \"Media\"\n",
    "    elif decision == \"Communication\":\n",
    "        print(\"   Decision: Route to Communication Node\")\n",
    "        return \"Communication\"\n",
    "    elif decision == \"VehicleInfo\":\n",
    "        print(\"   Decision: Route to Vehicle Info Node\")\n",
    "        return \"VehicleInfo\"\n",
    "    elif decision == \"Respond\":\n",
    "         print(\"   Decision: Route to Response Agent\")\n",
    "         return \"Respond\"\n",
    "    else:\n",
    "        print(f\"   Decision: Routing to Error Node due to decision '{decision}'\")\n",
    "        return \"Error\""
   ]
  },
  {
   "cell_type": "markdown",
   "id": "fb537e9c",
   "metadata": {
    "papermill": {
     "duration": 0.004673,
     "end_time": "2025-04-13T19:28:07.462536",
     "exception": false,
     "start_time": "2025-04-13T19:28:07.457863",
     "status": "completed"
    },
    "tags": []
   },
   "source": [
    "## Build Graph"
   ]
  },
  {
   "cell_type": "code",
   "execution_count": 11,
   "id": "d19cc40b",
   "metadata": {
    "execution": {
     "iopub.execute_input": "2025-04-13T19:28:07.473673Z",
     "iopub.status.busy": "2025-04-13T19:28:07.473037Z",
     "iopub.status.idle": "2025-04-13T19:28:08.285393Z",
     "shell.execute_reply": "2025-04-13T19:28:08.284488Z"
    },
    "papermill": {
     "duration": 0.819492,
     "end_time": "2025-04-13T19:28:08.286798",
     "exception": false,
     "start_time": "2025-04-13T19:28:07.467306",
     "status": "completed"
    },
    "tags": []
   },
   "outputs": [
    {
     "data": {
      "image/png": "[encoded data removed]",
      "text/plain": [
       "<IPython.core.display.Image object>"
      ]
     },
     "metadata": {},
     "output_type": "display_data"
    }
   ],
   "source": [
    "graph_builder = StateGraph(AgentState)\n",
    "\n",
    "graph_builder.add_node(\"UserInput\", voice_interface_agent)\n",
    "graph_builder.add_node(\"Orchestrator\", orchestrator_agent)\n",
    "graph_builder.add_node(\"Navigation\", navigation_node)\n",
    "graph_builder.add_node(\"Media\", media_node)\n",
    "graph_builder.add_node(\"Communication\", communication_node)\n",
    "graph_builder.add_node(\"VehicleInfo\", vehicle_info_node)\n",
    "graph_builder.add_node(\"Respond\", response_agent)\n",
    "graph_builder.add_node(\"Error\", error_node)\n",
    "\n",
    "graph_builder.add_edge(START, \"UserInput\")\n",
    "graph_builder.add_edge(\"UserInput\", \"Orchestrator\")\n",
    "\n",
    "graph_builder.add_conditional_edges(\n",
    "    \"Orchestrator\",\n",
    "    select_route,\n",
    "    {\n",
    "        \"Navigation\": \"Navigation\",\n",
    "        \"Media\": \"Media\",\n",
    "        \"Communication\": \"Communication\",\n",
    "        \"VehicleInfo\": \"VehicleInfo\",\n",
    "        \"Respond\": \"Respond\",\n",
    "        \"Error\": \"Error\",\n",
    "        END: END\n",
    "    }\n",
    ")\n",
    "\n",
    "graph_builder.add_edge(\"Navigation\", \"Respond\")\n",
    "graph_builder.add_edge(\"Media\", \"Respond\")\n",
    "graph_builder.add_edge(\"Communication\", \"Respond\")\n",
    "graph_builder.add_edge(\"VehicleInfo\", \"Respond\")\n",
    "\n",
    "graph_builder.add_edge(\"Error\", END)\n",
    "\n",
    "app_graph = graph_builder.compile()\n",
    "\n",
    "display(Image(app_graph.get_graph().draw_mermaid_png()))"
   ]
  },
  {
   "cell_type": "markdown",
   "id": "9d9d4dec",
   "metadata": {
    "papermill": {
     "duration": 0.005415,
     "end_time": "2025-04-13T19:28:08.298063",
     "exception": false,
     "start_time": "2025-04-13T19:28:08.292648",
     "status": "completed"
    },
    "tags": []
   },
   "source": [
    "## Run the Agent System"
   ]
  },
  {
   "cell_type": "code",
   "execution_count": 12,
   "id": "406ad0a0",
   "metadata": {
    "execution": {
     "iopub.execute_input": "2025-04-13T19:28:08.310785Z",
     "iopub.status.busy": "2025-04-13T19:28:08.309677Z",
     "iopub.status.idle": "2025-04-13T19:28:08.317798Z",
     "shell.execute_reply": "2025-04-13T19:28:08.316736Z"
    },
    "papermill": {
     "duration": 0.015777,
     "end_time": "2025-04-13T19:28:08.319208",
     "exception": false,
     "start_time": "2025-04-13T19:28:08.303431",
     "status": "completed"
    },
    "tags": []
   },
   "outputs": [
    {
     "name": "stdout",
     "output_type": "stream",
     "text": [
      "--- NODE: Voice Interface ---\n",
      "\n",
      "An error occurred during execution: raw_input was called, but this frontend does not support input requests.\n"
     ]
    }
   ],
   "source": [
    "config = {\"recursion_limit\": 15}\n",
    "\n",
    "initial_state = {\"messages\": [], \"final_response_generated\": False}\n",
    "\n",
    "try:\n",
    "    final_state = app_graph.invoke(initial_state, config=config)\n",
    "    print(\"\\n--- Interaction Ended ---\")\n",
    "    print(\"\\nFinal State:\")\n",
    "    pprint(final_state)\n",
    "except Exception as e:\n",
    "     print(f\"\\nAn error occurred during execution: {e}\")"
   ]
  }
 ],
 "metadata": {
  "kaggle": {
   "accelerator": "none",
   "dataSources": [],
   "dockerImageVersionId": 31012,
   "isGpuEnabled": false,
   "isInternetEnabled": true,
   "language": "python",
   "sourceType": "notebook"
  },
  "kernelspec": {
   "display_name": "Python 3",
   "language": "python",
   "name": "python3"
  },
  "language_info": {
   "codemirror_mode": {
    "name": "ipython",
    "version": 3
   },
   "file_extension": ".py",
   "mimetype": "text/x-python",
   "name": "python",
   "nbconvert_exporter": "python",
   "pygments_lexer": "ipython3",
   "version": "3.11.11"
  },
  "papermill": {
   "default_parameters": {},
   "duration": 81.180629,
   "end_time": "2025-04-13T19:28:11.578738",
   "environment_variables": {},
   "exception": null,
   "input_path": "__notebook__.ipynb",
   "output_path": "__notebook__.ipynb",
   "parameters": {},
   "start_time": "2025-04-13T19:26:50.398109",
   "version": "2.6.0"
  }
 },
 "nbformat": 4,
 "nbformat_minor": 5
}
