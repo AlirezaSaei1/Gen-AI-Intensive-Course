{
 "cells": [
  {
   "cell_type": "markdown",
   "id": "8d49ce37",
   "metadata": {
    "papermill": {
     "duration": 0.002818,
     "end_time": "2025-04-11T11:04:47.210759",
     "exception": false,
     "start_time": "2025-04-11T11:04:47.207941",
     "status": "completed"
    },
    "tags": []
   },
   "source": [
    "## Autonomous Multi-Agent System for Enhanced Automotive User Experience\n",
    "\n",
    "#### Capstone Project - Kaggle 5-Day Generative AI Course"
   ]
  },
  {
   "cell_type": "code",
   "execution_count": 1,
   "id": "e81af1be",
   "metadata": {
    "execution": {
     "iopub.execute_input": "2025-04-11T11:04:47.217532Z",
     "iopub.status.busy": "2025-04-11T11:04:47.216632Z",
     "iopub.status.idle": "2025-04-11T11:05:35.726685Z",
     "shell.execute_reply": "2025-04-11T11:05:35.725649Z"
    },
    "papermill": {
     "duration": 48.515142,
     "end_time": "2025-04-11T11:05:35.728483",
     "exception": false,
     "start_time": "2025-04-11T11:04:47.213341",
     "status": "completed"
    },
    "tags": []
   },
   "outputs": [
    {
     "name": "stdout",
     "output_type": "stream",
     "text": [
      "\u001b[2K     \u001b[90m━━━━━━━━━━━━━━━━━━━━━━━━━━━━━━━━━━━━━━━━\u001b[0m \u001b[32m43.5/43.5 kB\u001b[0m \u001b[31m2.3 MB/s\u001b[0m eta \u001b[36m0:00:00\u001b[0m\r\n",
      "\u001b[2K   \u001b[90m━━━━━━━━━━━━━━━━━━━━━━━━━━━━━━━━━━━━━━━━\u001b[0m \u001b[32m1.0/1.0 MB\u001b[0m \u001b[31m34.2 MB/s\u001b[0m eta \u001b[36m0:00:00\u001b[0m\r\n",
      "\u001b[2K   \u001b[90m━━━━━━━━━━━━━━━━━━━━━━━━━━━━━━━━━━━━━━━━\u001b[0m \u001b[32m42.0/42.0 kB\u001b[0m \u001b[31m2.1 MB/s\u001b[0m eta \u001b[36m0:00:00\u001b[0m\r\n",
      "\u001b[2K   \u001b[90m━━━━━━━━━━━━━━━━━━━━━━━━━━━━━━━━━━━━━━━━\u001b[0m \u001b[32m144.1/144.1 kB\u001b[0m \u001b[31m8.5 MB/s\u001b[0m eta \u001b[36m0:00:00\u001b[0m\r\n",
      "\u001b[2K   \u001b[90m━━━━━━━━━━━━━━━━━━━━━━━━━━━━━━━━━━━━━━━━\u001b[0m \u001b[32m7.6/7.6 MB\u001b[0m \u001b[31m53.7 MB/s\u001b[0m eta \u001b[36m0:00:00\u001b[0m\r\n",
      "\u001b[2K   \u001b[90m━━━━━━━━━━━━━━━━━━━━━━━━━━━━━━━━━━━━━━━━\u001b[0m \u001b[32m13.5/13.5 MB\u001b[0m \u001b[31m87.7 MB/s\u001b[0m eta \u001b[36m0:00:00\u001b[0m\r\n",
      "\u001b[2K   \u001b[90m━━━━━━━━━━━━━━━━━━━━━━━━━━━━━━━━━━━━━━━━\u001b[0m \u001b[32m2.5/2.5 MB\u001b[0m \u001b[31m69.4 MB/s\u001b[0m eta \u001b[36m0:00:00\u001b[0m\r\n",
      "\u001b[2K   \u001b[90m━━━━━━━━━━━━━━━━━━━━━━━━━━━━━━━━━━━━━━━━\u001b[0m \u001b[32m423.3/423.3 kB\u001b[0m \u001b[31m19.6 MB/s\u001b[0m eta \u001b[36m0:00:00\u001b[0m\r\n",
      "\u001b[2K   \u001b[90m━━━━━━━━━━━━━━━━━━━━━━━━━━━━━━━━━━━━━━━━\u001b[0m \u001b[32m1.4/1.4 MB\u001b[0m \u001b[31m43.0 MB/s\u001b[0m eta \u001b[36m0:00:00\u001b[0m\r\n",
      "\u001b[2K   \u001b[90m━━━━━━━━━━━━━━━━━━━━━━━━━━━━━━━━━━━━━━━━\u001b[0m \u001b[32m42.0/42.0 kB\u001b[0m \u001b[31m2.2 MB/s\u001b[0m eta \u001b[36m0:00:00\u001b[0m\r\n",
      "\u001b[2K   \u001b[90m━━━━━━━━━━━━━━━━━━━━━━━━━━━━━━━━━━━━━━━━\u001b[0m \u001b[32m47.2/47.2 kB\u001b[0m \u001b[31m2.1 MB/s\u001b[0m eta \u001b[36m0:00:00\u001b[0m\r\n",
      "\u001b[2K   \u001b[90m━━━━━━━━━━━━━━━━━━━━━━━━━━━━━━━━━━━━━━━━\u001b[0m \u001b[32m223.6/223.6 kB\u001b[0m \u001b[31m7.7 MB/s\u001b[0m eta \u001b[36m0:00:00\u001b[0m\r\n",
      "\u001b[?25h\u001b[31mERROR: pip's dependency resolver does not currently take into account all the packages that are installed. This behaviour is the source of the following dependency conflicts.\r\n",
      "category-encoders 2.7.0 requires scikit-learn<1.6.0,>=1.0.0, but you have scikit-learn 1.6.1 which is incompatible.\r\n",
      "bigframes 1.36.0 requires rich<14,>=12.4.4, but you have rich 14.0.0 which is incompatible.\u001b[0m\u001b[31m\r\n",
      "\u001b[0m"
     ]
    }
   ],
   "source": [
    "!pip uninstall -qqy kfp jupyterlab google-generativeai tensorflow-hub 2>/dev/null\n",
    "!pip install -U -q langchain langchain-google-genai langgraph google-cloud-aiplatform pandas scikit-learn \"langchain-community>=0.2.7\" \"langchain-core>=0.2.19\""
   ]
  },
  {
   "cell_type": "code",
   "execution_count": 2,
   "id": "199b1dc4",
   "metadata": {
    "execution": {
     "iopub.execute_input": "2025-04-11T11:05:35.736862Z",
     "iopub.status.busy": "2025-04-11T11:05:35.736514Z",
     "iopub.status.idle": "2025-04-11T11:05:51.342858Z",
     "shell.execute_reply": "2025-04-11T11:05:51.342073Z"
    },
    "papermill": {
     "duration": 15.612322,
     "end_time": "2025-04-11T11:05:51.344381",
     "exception": false,
     "start_time": "2025-04-11T11:05:35.732059",
     "status": "completed"
    },
    "tags": []
   },
   "outputs": [],
   "source": [
    "import os\n",
    "import typing\n",
    "import uuid\n",
    "from collections.abc import Iterable\n",
    "from random import randint\n",
    "from pprint import pprint\n",
    "\n",
    "from langchain_core.messages.ai import AIMessage\n",
    "from langchain_core.messages.human import HumanMessage\n",
    "from langchain_core.messages.tool import ToolMessage\n",
    "from langchain_core.tools import tool\n",
    "from langchain_google_genai import ChatGoogleGenerativeAI\n",
    "from langgraph.graph import StateGraph, START, END\n",
    "from langgraph.graph.message import add_messages\n",
    "from langgraph.prebuilt import ToolNode, tools_condition\n",
    "\n",
    "from google.cloud import aiplatform\n",
    "from langchain_community.embeddings import VertexAIEmbeddings\n",
    "from langchain_community.vectorstores.matching_engine import MatchingEngine\n",
    "\n",
    "from IPython.display import Image, display, Markdown\n",
    "\n",
    "from typing import Annotated, Literal\n",
    "from typing_extensions import TypedDict"
   ]
  },
  {
   "cell_type": "code",
   "execution_count": 3,
   "id": "957aeee5",
   "metadata": {
    "execution": {
     "iopub.execute_input": "2025-04-11T11:05:51.352770Z",
     "iopub.status.busy": "2025-04-11T11:05:51.351782Z",
     "iopub.status.idle": "2025-04-11T11:05:51.554348Z",
     "shell.execute_reply": "2025-04-11T11:05:51.553334Z"
    },
    "papermill": {
     "duration": 0.208513,
     "end_time": "2025-04-11T11:05:51.556285",
     "exception": false,
     "start_time": "2025-04-11T11:05:51.347772",
     "status": "completed"
    },
    "tags": []
   },
   "outputs": [],
   "source": [
    "from kaggle_secrets import UserSecretsClient\n",
    "\n",
    "user_secrets = UserSecretsClient()\n",
    "GOOGLE_API_KEY = user_secrets.get_secret(\"GOOGLE_API_KEY\")\n",
    "os.environ[\"GOOGLE_API_KEY\"] = GOOGLE_API_KEY"
   ]
  },
  {
   "cell_type": "code",
   "execution_count": 4,
   "id": "4e765364",
   "metadata": {
    "execution": {
     "iopub.execute_input": "2025-04-11T11:05:51.565847Z",
     "iopub.status.busy": "2025-04-11T11:05:51.565487Z",
     "iopub.status.idle": "2025-04-11T11:05:51.571615Z",
     "shell.execute_reply": "2025-04-11T11:05:51.570596Z"
    },
    "papermill": {
     "duration": 0.012181,
     "end_time": "2025-04-11T11:05:51.573347",
     "exception": false,
     "start_time": "2025-04-11T11:05:51.561166",
     "status": "completed"
    },
    "tags": []
   },
   "outputs": [
    {
     "name": "stdout",
     "output_type": "stream",
     "text": [
      "Vertex AI initialized for project capstone-project in us-central1.\n"
     ]
    }
   ],
   "source": [
    "PROJECT_ID = \"capstone-project\"\n",
    "LOCATION = \"us-central1\"\n",
    "\n",
    "try:\n",
    "    aiplatform.init(project=PROJECT_ID, location=LOCATION)\n",
    "    print(f\"Vertex AI initialized for project {PROJECT_ID} in {LOCATION}.\")\n",
    "except Exception as e:\n",
    "    print(f\"Error initializing Vertex AI: {e}\")\n",
    "    print(\"Please ensure you have entered a valid PROJECT_ID and have the necessary permissions.\")\n"
   ]
  },
  {
   "cell_type": "code",
   "execution_count": 5,
   "id": "c898f063",
   "metadata": {
    "execution": {
     "iopub.execute_input": "2025-04-11T11:05:51.581515Z",
     "iopub.status.busy": "2025-04-11T11:05:51.580841Z",
     "iopub.status.idle": "2025-04-11T11:05:51.586571Z",
     "shell.execute_reply": "2025-04-11T11:05:51.585655Z"
    },
    "papermill": {
     "duration": 0.011275,
     "end_time": "2025-04-11T11:05:51.588000",
     "exception": false,
     "start_time": "2025-04-11T11:05:51.576725",
     "status": "completed"
    },
    "tags": []
   },
   "outputs": [],
   "source": [
    "class AgentState(TypedDict):\n",
    "    messages: Annotated[list, add_messages]\n",
    "    current_request: str | None\n",
    "    last_agent_response: str | None\n",
    "    route_decision: Literal[\"Navigation\", \"Media\", \"Communication\", \"VehicleInfo\", \"Respond\", \"Error\", None]\n",
    "    vehicle_context: list[str] | None\n",
    "    navigation_context: dict | None\n",
    "    media_context: dict | None\n",
    "    communication_context: dict | None\n",
    "    error: str | None\n",
    "    final_response_generated: bool"
   ]
  },
  {
   "cell_type": "markdown",
   "id": "99f7f797",
   "metadata": {
    "papermill": {
     "duration": 0.002924,
     "end_time": "2025-04-11T11:05:51.594238",
     "exception": false,
     "start_time": "2025-04-11T11:05:51.591314",
     "status": "completed"
    },
    "tags": []
   },
   "source": [
    "## Tools"
   ]
  },
  {
   "cell_type": "code",
   "execution_count": 6,
   "id": "77cf4e4d",
   "metadata": {
    "execution": {
     "iopub.execute_input": "2025-04-11T11:05:51.602071Z",
     "iopub.status.busy": "2025-04-11T11:05:51.601705Z",
     "iopub.status.idle": "2025-04-11T11:05:51.624417Z",
     "shell.execute_reply": "2025-04-11T11:05:51.623582Z"
    },
    "papermill": {
     "duration": 0.028558,
     "end_time": "2025-04-11T11:05:51.625997",
     "exception": false,
     "start_time": "2025-04-11T11:05:51.597439",
     "status": "completed"
    },
    "tags": []
   },
   "outputs": [],
   "source": [
    "@tool\n",
    "def navigation_tool(action: str, destination: str | None = None, poi_type: str | None = None) -> str:\n",
    "    \"\"\"\n",
    "    Simulates interaction with a Navigation API.\n",
    "    Actions can be 'find_poi', 'start_navigation', 'get_traffic'.\n",
    "    Requires destination for 'start_navigation'.\n",
    "    Requires poi_type for 'find_poi' (e.g., 'restaurant', 'gas station').\n",
    "    \"\"\"\n",
    "    print(f\"--- TOOL CALL: navigation_tool (Action: {action}, Destination: {destination}, POI: {poi_type}) ---\")\n",
    "    if action == \"find_poi\":\n",
    "        return f\"Simulated: Found nearest {poi_type or 'POI'}.\"\n",
    "    elif action == \"start_navigation\" and destination:\n",
    "        return f\"Simulated: Starting navigation to {destination}.\"\n",
    "    elif action == \"get_traffic\":\n",
    "        return \"Simulated: Traffic is moderate.\"\n",
    "    else:\n",
    "        return \"Simulated: Invalid navigation action or missing parameters.\"\n",
    "\n",
    "@tool\n",
    "def media_tool(action: str, query: str | None = None) -> str:\n",
    "    \"\"\"\n",
    "    Simulates interaction with a Media API.\n",
    "    Actions can be 'play', 'pause', 'search_music', 'search_podcast'.\n",
    "    Requires query for search actions.\n",
    "    \"\"\"\n",
    "    print(f\"--- TOOL CALL: media_tool (Action: {action}, Query: {query}) ---\")\n",
    "    if action == \"play\" and query:\n",
    "        return f\"Simulated: Playing '{query}'.\"\n",
    "    elif action == \"play\":\n",
    "        return f\"Simulated: Resuming playback.\"\n",
    "    elif action == \"pause\":\n",
    "        return \"Simulated: Pausing media.\"\n",
    "    elif action == \"search_music\" and query:\n",
    "        return f\"Simulated: Found music matching '{query}'.\"\n",
    "    elif action == \"search_podcast\" and query:\n",
    "         return f\"Simulated: Found podcasts matching '{query}'.\"\n",
    "    else:\n",
    "        return \"Simulated: Invalid media action or missing query.\"\n",
    "\n",
    "@tool\n",
    "def communication_tool(action: str, recipient: str | None = None, message: str | None = None) -> str:\n",
    "    \"\"\"\n",
    "    Simulates interaction with a Communication API (e.g., SMS, Email).\n",
    "    Actions can be 'send_message', 'read_last_message'.\n",
    "    Requires recipient and message for 'send_message'.\n",
    "    \"\"\"\n",
    "    print(f\"--- TOOL CALL: communication_tool (Action: {action}, Recipient: {recipient}) ---\")\n",
    "    if action == \"send_message\" and recipient and message:\n",
    "        return f\"Simulated: Sending message '{message}' to {recipient}.\"\n",
    "    elif action == \"read_last_message\":\n",
    "        return \"Simulated: Last message reads 'On my way!'\"\n",
    "    else:\n",
    "        return \"Simulated: Invalid communication action or missing parameters.\"\n",
    "\n",
    "@tool\n",
    "def get_vehicle_info(query: str) -> str:\n",
    "    \"\"\"\n",
    "    Provides information about the vehicle's features and functions by\n",
    "    searching the car manual. Use this for questions about how to operate\n",
    "    the car or troubleshoot issues.\n",
    "    \"\"\"\n",
    "    print(f\"--- TOOL CALL: get_vehicle_info (Query: {query}) ---\")\n",
    "    if \"headlight\" in query.lower():\n",
    "        return \"Simulated RAG: To turn on the headlights, rotate the dial on the left stalk clockwise.\"\n",
    "    elif \"tire pressure\" in query.lower():\n",
    "         return \"Simulated RAG: Recommended tire pressure is 35 PSI for all tires.\"\n",
    "    else:\n",
    "        return \"Simulated RAG: Information not found in the manual for that query.\"\n",
    "\n",
    "available_tools = [navigation_tool, media_tool, communication_tool, get_vehicle_info]"
   ]
  },
  {
   "cell_type": "code",
   "execution_count": null,
   "id": "9d1f5dc3",
   "metadata": {
    "papermill": {
     "duration": 0.003292,
     "end_time": "2025-04-11T11:05:51.632807",
     "exception": false,
     "start_time": "2025-04-11T11:05:51.629515",
     "status": "completed"
    },
    "tags": []
   },
   "outputs": [],
   "source": []
  }
 ],
 "metadata": {
  "kaggle": {
   "accelerator": "none",
   "dataSources": [],
   "dockerImageVersionId": 31012,
   "isGpuEnabled": false,
   "isInternetEnabled": true,
   "language": "python",
   "sourceType": "notebook"
  },
  "kernelspec": {
   "display_name": "Python 3",
   "language": "python",
   "name": "python3"
  },
  "language_info": {
   "codemirror_mode": {
    "name": "ipython",
    "version": 3
   },
   "file_extension": ".py",
   "mimetype": "text/x-python",
   "name": "python",
   "nbconvert_exporter": "python",
   "pygments_lexer": "ipython3",
   "version": "3.11.11"
  },
  "papermill": {
   "default_parameters": {},
   "duration": 72.097102,
   "end_time": "2025-04-11T11:05:54.673018",
   "environment_variables": {},
   "exception": null,
   "input_path": "__notebook__.ipynb",
   "output_path": "__notebook__.ipynb",
   "parameters": {},
   "start_time": "2025-04-11T11:04:42.575916",
   "version": "2.6.0"
  }
 },
 "nbformat": 4,
 "nbformat_minor": 5
}
